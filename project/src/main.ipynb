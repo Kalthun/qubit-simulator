{
 "cells": [
  {
   "cell_type": "code",
   "execution_count": null,
   "metadata": {},
   "outputs": [],
   "source": [
    "import numpy as np"
   ]
  },
  {
   "cell_type": "code",
   "execution_count": null,
   "metadata": {},
   "outputs": [],
   "source": [
    "class Qubit:\n",
    "    def __init__(self,\n",
    "            alpha:float = 1,\n",
    "            beta:float = 0\n",
    "        ):\n",
    "        self.state:np.ndarray = np.array([alpha, beta], dtype=np.complex128)\n",
    "        self.normalize_state()\n",
    "\n",
    "\n",
    "    def normalize_state(self):\n",
    "        norm = np.linalg.norm(self.state)\n",
    "        if norm == 0:\n",
    "            raise ValueError(\"The state vector cannot be zero.\")\n",
    "        self.state /= norm\n",
    "\n",
    "\n",
    "    def set_state(self,\n",
    "            alpha:float,\n",
    "            beta: float\n",
    "        ):\n",
    "        self.state = np.array([alpha, beta], dtype=np.complex128)\n",
    "        self.normalize_state()\n",
    "\n",
    "\n",
    "    def get_state(self) -> np.ndarray:\n",
    "        return self.state\n",
    "\n",
    "\n",
    "    def measure(self) -> int:\n",
    "        return np.random.choice([0, 1], p=np.abs(self.state) ** 2)\n",
    "\n",
    "\n",
    "    def __str__(self) -> str:\n",
    "        return f'|ψ> = ({self.state[0]:.2f}|0> + {self.state[1]:.2f}|1>)'"
   ]
  },
  {
   "cell_type": "code",
   "execution_count": null,
   "metadata": {},
   "outputs": [],
   "source": []
  }
 ],
 "metadata": {
  "kernelspec": {
   "display_name": "Python 3",
   "language": "python",
   "name": "python3"
  },
  "language_info": {
   "codemirror_mode": {
    "name": "ipython",
    "version": 3
   },
   "file_extension": ".py",
   "mimetype": "text/x-python",
   "name": "python",
   "nbconvert_exporter": "python",
   "pygments_lexer": "ipython3",
   "version": "3.12.9"
  }
 },
 "nbformat": 4,
 "nbformat_minor": 2
}
